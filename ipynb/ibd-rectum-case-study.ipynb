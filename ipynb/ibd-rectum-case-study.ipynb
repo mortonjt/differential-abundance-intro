{
 "cells": [
  {
   "cell_type": "markdown",
   "metadata": {},
   "source": [
    "TODO\n",
    "- Need to figure out metadata\n",
    "- Specifically, Figure 1, Cron's disease vs non-IBD"
   ]
  },
  {
   "cell_type": "code",
   "execution_count": 1,
   "metadata": {},
   "outputs": [
    {
     "name": "stdout",
     "output_type": "stream",
     "text": [
      "45568_otu_table.biom\t    processing.py\r\n",
      "45568_otu_table.qza\t    rectum_metadata.txt\r\n",
      "biopsy-sample-metadata.txt  rectum_table.txt\r\n",
      "collapsed-table.qza\t    sample_information_from_prep_1177.tsv\r\n",
      "collapsed-table.txt\t    sample-metadata.txt\r\n",
      "feature-table.biom\t    stool_metadata.txt\r\n",
      "feature-table.qza\t    stool-sample-metadata.txt\r\n",
      "gg_13_5_taxonomy.txt\t    stool_table.txt\r\n",
      "ileum_metadata.txt\t    taxonomy.qza\r\n",
      "ileum_table.txt\r\n"
     ]
    }
   ],
   "source": [
    "!ls ../data/gevers"
   ]
  },
  {
   "cell_type": "code",
   "execution_count": 2,
   "metadata": {},
   "outputs": [],
   "source": [
    "import pandas as pd\n",
    "import numpy as np\n",
    "md = pd.read_table('../data/gevers/rectum_metadata.txt', index_col=0)\n",
    "table = pd.read_table('../data/gevers/rectum_table.txt', index_col=0)"
   ]
  },
  {
   "cell_type": "code",
   "execution_count": 3,
   "metadata": {},
   "outputs": [],
   "source": [
    "from cmdstanpy import CmdStanModel\n",
    "from biom import load_table\n",
    "import pandas as pd\n",
    "import seaborn as sns\n",
    "import numpy as np\n",
    "%matplotlib inline"
   ]
  },
  {
   "cell_type": "code",
   "execution_count": 4,
   "metadata": {},
   "outputs": [
    {
     "data": {
      "text/plain": [
       "iCD    107\n",
       "no     107\n",
       "cCD     48\n",
       "UC      31\n",
       "IC      10\n",
       "CD       6\n",
       "Name: diseasesubtype, dtype: int64"
      ]
     },
     "execution_count": 4,
     "metadata": {},
     "output_type": "execute_result"
    }
   ],
   "source": [
    "md['diseasesubtype'].value_counts()"
   ]
  },
  {
   "cell_type": "code",
   "execution_count": 5,
   "metadata": {},
   "outputs": [
    {
     "name": "stdout",
     "output_type": "stream",
     "text": [
      "data {\n",
      "  int<lower=0> N;     // number of samples\n",
      "  int<lower=0> D;     // number of samples\n",
      "  int<lower=0> p;     // number of covariates\n",
      "  real depth[N];      // sequencing depths of microbes\n",
      "  matrix[N, p] x;     // covariate matrix\n",
      "  int y[N, D];        // observed microbe abundances\n",
      "}\n",
      "\n",
      "parameters {\n",
      "  // parameters required for linear regression on the species means\n",
      "  matrix[p, D-1] beta;  // covariates\n",
      "  real<lower=0> disp; // over-dispersion to help control for variance\n",
      "}\n",
      "\n",
      "transformed parameters {\n",
      "  matrix[N, D-1] lam;\n",
      "  matrix[N, D] lclr;\n",
      "  vector[N] z;\n",
      "\n",
      "  z = to_vector(rep_array(0, N));\n",
      "  lam = x * beta;\n",
      "  lclr = append_col(z, lam);\n",
      "}\n",
      "\n",
      "model {\n",
      "  // setting priors ...\n",
      "  disp ~ inv_gamma(1., 1.);\n",
      "  to_vector(beta) ~ normal(0., 10.); // uninformed prior\n",
      "  // generating counts\n",
      "  for (n in 1:N){\n",
      "    for (d in 1:D){\n",
      "      target += neg_binomial_2_log_lpmf(y[n, d] | depth[n] + lclr[n, d], disp);\n",
      "    }\n",
      "  }\n",
      "}\n",
      "\n"
     ]
    }
   ],
   "source": [
    "import os\n",
    "print(open('nb_diff.stan').read())"
   ]
  },
  {
   "cell_type": "code",
   "execution_count": 6,
   "metadata": {},
   "outputs": [
    {
     "data": {
      "text/html": [
       "<div>\n",
       "<style scoped>\n",
       "    .dataframe tbody tr th:only-of-type {\n",
       "        vertical-align: middle;\n",
       "    }\n",
       "\n",
       "    .dataframe tbody tr th {\n",
       "        vertical-align: top;\n",
       "    }\n",
       "\n",
       "    .dataframe thead th {\n",
       "        text-align: right;\n",
       "    }\n",
       "</style>\n",
       "<table border=\"1\" class=\"dataframe\">\n",
       "  <thead>\n",
       "    <tr style=\"text-align: right;\">\n",
       "      <th></th>\n",
       "      <th>Intercept</th>\n",
       "      <th>C(diseasesubtype, Treatment('no'))[T.CD]</th>\n",
       "      <th>C(diseasesubtype, Treatment('no'))[T.IC]</th>\n",
       "      <th>C(diseasesubtype, Treatment('no'))[T.UC]</th>\n",
       "      <th>C(diseasesubtype, Treatment('no'))[T.cCD]</th>\n",
       "      <th>C(diseasesubtype, Treatment('no'))[T.iCD]</th>\n",
       "    </tr>\n",
       "    <tr>\n",
       "      <th>sample_id</th>\n",
       "      <th></th>\n",
       "      <th></th>\n",
       "      <th></th>\n",
       "      <th></th>\n",
       "      <th></th>\n",
       "      <th></th>\n",
       "    </tr>\n",
       "  </thead>\n",
       "  <tbody>\n",
       "    <tr>\n",
       "      <th>1939.MGH100695.a</th>\n",
       "      <td>1.0</td>\n",
       "      <td>0.0</td>\n",
       "      <td>0.0</td>\n",
       "      <td>0.0</td>\n",
       "      <td>1.0</td>\n",
       "      <td>0.0</td>\n",
       "    </tr>\n",
       "    <tr>\n",
       "      <th>1939.MGH100695.b</th>\n",
       "      <td>1.0</td>\n",
       "      <td>0.0</td>\n",
       "      <td>0.0</td>\n",
       "      <td>0.0</td>\n",
       "      <td>1.0</td>\n",
       "      <td>0.0</td>\n",
       "    </tr>\n",
       "    <tr>\n",
       "      <th>1939.MGH101446</th>\n",
       "      <td>1.0</td>\n",
       "      <td>0.0</td>\n",
       "      <td>0.0</td>\n",
       "      <td>0.0</td>\n",
       "      <td>0.0</td>\n",
       "      <td>1.0</td>\n",
       "    </tr>\n",
       "    <tr>\n",
       "      <th>1939.MGH101666</th>\n",
       "      <td>1.0</td>\n",
       "      <td>0.0</td>\n",
       "      <td>0.0</td>\n",
       "      <td>0.0</td>\n",
       "      <td>0.0</td>\n",
       "      <td>0.0</td>\n",
       "    </tr>\n",
       "    <tr>\n",
       "      <th>1939.MGH102261</th>\n",
       "      <td>1.0</td>\n",
       "      <td>0.0</td>\n",
       "      <td>0.0</td>\n",
       "      <td>1.0</td>\n",
       "      <td>0.0</td>\n",
       "      <td>0.0</td>\n",
       "    </tr>\n",
       "  </tbody>\n",
       "</table>\n",
       "</div>"
      ],
      "text/plain": [
       "                  Intercept  C(diseasesubtype, Treatment('no'))[T.CD]  \\\n",
       "sample_id                                                               \n",
       "1939.MGH100695.a        1.0                                       0.0   \n",
       "1939.MGH100695.b        1.0                                       0.0   \n",
       "1939.MGH101446          1.0                                       0.0   \n",
       "1939.MGH101666          1.0                                       0.0   \n",
       "1939.MGH102261          1.0                                       0.0   \n",
       "\n",
       "                  C(diseasesubtype, Treatment('no'))[T.IC]  \\\n",
       "sample_id                                                    \n",
       "1939.MGH100695.a                                       0.0   \n",
       "1939.MGH100695.b                                       0.0   \n",
       "1939.MGH101446                                         0.0   \n",
       "1939.MGH101666                                         0.0   \n",
       "1939.MGH102261                                         0.0   \n",
       "\n",
       "                  C(diseasesubtype, Treatment('no'))[T.UC]  \\\n",
       "sample_id                                                    \n",
       "1939.MGH100695.a                                       0.0   \n",
       "1939.MGH100695.b                                       0.0   \n",
       "1939.MGH101446                                         0.0   \n",
       "1939.MGH101666                                         0.0   \n",
       "1939.MGH102261                                         1.0   \n",
       "\n",
       "                  C(diseasesubtype, Treatment('no'))[T.cCD]  \\\n",
       "sample_id                                                     \n",
       "1939.MGH100695.a                                        1.0   \n",
       "1939.MGH100695.b                                        1.0   \n",
       "1939.MGH101446                                          0.0   \n",
       "1939.MGH101666                                          0.0   \n",
       "1939.MGH102261                                          0.0   \n",
       "\n",
       "                  C(diseasesubtype, Treatment('no'))[T.iCD]  \n",
       "sample_id                                                    \n",
       "1939.MGH100695.a                                        0.0  \n",
       "1939.MGH100695.b                                        0.0  \n",
       "1939.MGH101446                                          1.0  \n",
       "1939.MGH101666                                          0.0  \n",
       "1939.MGH102261                                          0.0  "
      ]
     },
     "execution_count": 6,
     "metadata": {},
     "output_type": "execute_result"
    }
   ],
   "source": [
    "from patsy import dmatrix\n",
    "disease_type = dmatrix(\"C(diseasesubtype, Treatment('no'))\", md, return_type='dataframe')\n",
    "disease_type.head()"
   ]
  },
  {
   "cell_type": "code",
   "execution_count": 7,
   "metadata": {},
   "outputs": [
    {
     "data": {
      "text/plain": [
       "((309, 113), (309, 6))"
      ]
     },
     "execution_count": 7,
     "metadata": {},
     "output_type": "execute_result"
    }
   ],
   "source": [
    "table.shape, disease_type.shape"
   ]
  },
  {
   "cell_type": "code",
   "execution_count": 8,
   "metadata": {},
   "outputs": [],
   "source": [
    "import json\n",
    "nb_data = {\n",
    "    'N' : len(table),\n",
    "    'D' : table.shape[1],\n",
    "    'p' : disease_type.shape[1], \n",
    "    'depth' : np.log(table.sum(axis=1)).values.tolist(),  # log of sequencing depth\n",
    "    'x' : disease_type.values.tolist(),\n",
    "    'y' : table.values.astype(np.int64).tolist()\n",
    "}\n",
    "with open('data.json', 'w') as f:\n",
    "    json.dump(nb_data, f)"
   ]
  },
  {
   "cell_type": "code",
   "execution_count": 9,
   "metadata": {},
   "outputs": [
    {
     "name": "stderr",
     "output_type": "stream",
     "text": [
      "INFO:cmdstanpy:found newer exe file, not recompiling\n",
      "INFO:cmdstanpy:compiled model file: /home/juermieboop/Documents/interviews/bch/short-introduction-to-ALR/ipynb/nb_diff\n",
      "INFO:cmdstanpy:start chain 1\n"
     ]
    },
    {
     "name": "stdout",
     "output_type": "stream",
     "text": [
      "env: TBB_CXX_TYPE=gcc\n"
     ]
    },
    {
     "name": "stderr",
     "output_type": "stream",
     "text": [
      "INFO:cmdstanpy:finish chain 1\n"
     ]
    }
   ],
   "source": [
    "%set_env TBB_CXX_TYPE gcc\n",
    "nb_model = CmdStanModel(stan_file=os.path.join(os.getcwd(), 'nb_diff.stan'))\n",
    "nb_vb = nb_model.variational(data='data.json')"
   ]
  },
  {
   "cell_type": "code",
   "execution_count": 10,
   "metadata": {},
   "outputs": [],
   "source": [
    "colnames = np.array(nb_vb.column_names)\n",
    "beta_idx = np.array(list(map(lambda x: 'beta' in x, colnames)))"
   ]
  },
  {
   "cell_type": "code",
   "execution_count": 11,
   "metadata": {},
   "outputs": [],
   "source": [
    "beta_samples = nb_vb.variational_sample.iloc[:, beta_idx].values.reshape((\n",
    "    1000, table.shape[1] - 1, disease_type.shape[1]))"
   ]
  },
  {
   "cell_type": "code",
   "execution_count": 12,
   "metadata": {},
   "outputs": [],
   "source": [
    "beta_mean = beta_samples.mean(axis=0)\n",
    "beta_std = beta_samples.std(axis=0)"
   ]
  },
  {
   "cell_type": "code",
   "execution_count": 13,
   "metadata": {},
   "outputs": [
    {
     "data": {
      "text/plain": [
       "['Intercept',\n",
       " \"C(diseasesubtype, Treatment('no'))[T.CD]\",\n",
       " \"C(diseasesubtype, Treatment('no'))[T.IC]\",\n",
       " \"C(diseasesubtype, Treatment('no'))[T.UC]\",\n",
       " \"C(diseasesubtype, Treatment('no'))[T.cCD]\",\n",
       " \"C(diseasesubtype, Treatment('no'))[T.iCD]\"]"
      ]
     },
     "execution_count": 13,
     "metadata": {},
     "output_type": "execute_result"
    }
   ],
   "source": [
    "disease_type.columns.tolist()"
   ]
  },
  {
   "cell_type": "code",
   "execution_count": 14,
   "metadata": {},
   "outputs": [],
   "source": [
    "ctrl_cd = 1\n",
    "differentials = pd.DataFrame({\n",
    "    'mean': [0] + beta_mean[:, ctrl_cd].tolist(), 'std': [0] + beta_std[:, ctrl_cd].tolist()},\n",
    "    index=table.columns)\n",
    "differentials = differentials.sort_values('mean')"
   ]
  },
  {
   "cell_type": "code",
   "execution_count": 15,
   "metadata": {},
   "outputs": [
    {
     "data": {
      "text/plain": [
       "<ErrorbarContainer object of 3 artists>"
      ]
     },
     "execution_count": 15,
     "metadata": {},
     "output_type": "execute_result"
    },
    {
     "data": {
      "image/png": "[encoded data removed]",
      "text/plain": [
       "<Figure size 432x288 with 1 Axes>"
      ]
     },
     "metadata": {
      "needs_background": "light"
     },
     "output_type": "display_data"
    }
   ],
   "source": [
    "import matplotlib.pyplot as plt\n",
    "plt.errorbar(np.arange(len(differentials)), differentials['mean'], yerr=differentials['std'])"
   ]
  },
  {
   "cell_type": "code",
   "execution_count": 16,
   "metadata": {},
   "outputs": [
    {
     "data": {
      "text/html": [
       "<div>\n",
       "<style scoped>\n",
       "    .dataframe tbody tr th:only-of-type {\n",
       "        vertical-align: middle;\n",
       "    }\n",
       "\n",
       "    .dataframe tbody tr th {\n",
       "        vertical-align: top;\n",
       "    }\n",
       "\n",
       "    .dataframe thead th {\n",
       "        text-align: right;\n",
       "    }\n",
       "</style>\n",
       "<table border=\"1\" class=\"dataframe\">\n",
       "  <thead>\n",
       "    <tr style=\"text-align: right;\">\n",
       "      <th></th>\n",
       "      <th>mean</th>\n",
       "      <th>std</th>\n",
       "    </tr>\n",
       "  </thead>\n",
       "  <tbody>\n",
       "    <tr>\n",
       "      <th>k__Bacteria;p__Tenericutes;c__Mollicutes;o__RF39;f__;g__</th>\n",
       "      <td>-8.683288</td>\n",
       "      <td>5.195745</td>\n",
       "    </tr>\n",
       "    <tr>\n",
       "      <th>k__Bacteria;p__Firmicutes;c__Bacilli;o__Turicibacterales;f__Turicibacteraceae;g__Turicibacter</th>\n",
       "      <td>-8.678904</td>\n",
       "      <td>3.782265</td>\n",
       "    </tr>\n",
       "    <tr>\n",
       "      <th>k__Bacteria;p__Firmicutes;c__Clostridia;o__Clostridiales;f__Lachnospiraceae;g__Anaerostipes</th>\n",
       "      <td>-8.647544</td>\n",
       "      <td>3.837713</td>\n",
       "    </tr>\n",
       "    <tr>\n",
       "      <th>k__Bacteria;p__Firmicutes;c__Clostridia;o__Clostridiales;f__Lachnospiraceae;g__Lachnobacterium</th>\n",
       "      <td>-8.466245</td>\n",
       "      <td>4.270247</td>\n",
       "    </tr>\n",
       "    <tr>\n",
       "      <th>k__Bacteria;p__Firmicutes;c__Clostridia;o__Clostridiales;f__Veillonellaceae;g__Megamonas</th>\n",
       "      <td>-8.446737</td>\n",
       "      <td>4.424322</td>\n",
       "    </tr>\n",
       "    <tr>\n",
       "      <th>k__Bacteria;p__Firmicutes;c__Clostridia;o__Clostridiales;f__Lachnospiraceae;g__Epulopiscium</th>\n",
       "      <td>-8.439803</td>\n",
       "      <td>3.425567</td>\n",
       "    </tr>\n",
       "    <tr>\n",
       "      <th>k__Bacteria;p__Proteobacteria;c__Alphaproteobacteria;o__RF32;f__;g__</th>\n",
       "      <td>-8.338626</td>\n",
       "      <td>3.389371</td>\n",
       "    </tr>\n",
       "    <tr>\n",
       "      <th>k__Bacteria;p__Bacteroidetes;c__Flavobacteriia;o__Flavobacteriales;f__[Weeksellaceae];g__Cloacibacterium</th>\n",
       "      <td>-8.255017</td>\n",
       "      <td>4.215557</td>\n",
       "    </tr>\n",
       "    <tr>\n",
       "      <th>k__Bacteria;p__Proteobacteria;c__Gammaproteobacteria;o__Pseudomonadales;f__Pseudomonadaceae;g__</th>\n",
       "      <td>-7.892410</td>\n",
       "      <td>4.168171</td>\n",
       "    </tr>\n",
       "    <tr>\n",
       "      <th>k__Bacteria;p__Actinobacteria;c__Coriobacteriia;o__Coriobacteriales;f__Coriobacteriaceae;g__Adlercreutzia</th>\n",
       "      <td>-7.883442</td>\n",
       "      <td>4.271919</td>\n",
       "    </tr>\n",
       "    <tr>\n",
       "      <th>k__Bacteria;p__Proteobacteria;c__Gammaproteobacteria;o__Pseudomonadales;f__Pseudomonadaceae;g__Pseudomonas</th>\n",
       "      <td>-7.702606</td>\n",
       "      <td>4.225060</td>\n",
       "    </tr>\n",
       "    <tr>\n",
       "      <th>k__Bacteria;p__Firmicutes;c__Erysipelotrichi;o__Erysipelotrichales;f__Erysipelotrichaceae;g__Catenibacterium</th>\n",
       "      <td>-7.616083</td>\n",
       "      <td>4.050292</td>\n",
       "    </tr>\n",
       "    <tr>\n",
       "      <th>k__Bacteria;p__Firmicutes;c__Clostridia;o__Clostridiales;f__[Tissierellaceae];g__WAL_1855D</th>\n",
       "      <td>-7.505798</td>\n",
       "      <td>4.417154</td>\n",
       "    </tr>\n",
       "    <tr>\n",
       "      <th>k__Bacteria;p__Proteobacteria;c__Alphaproteobacteria;o__Rhizobiales;f__Bradyrhizobiaceae;g__</th>\n",
       "      <td>-7.488400</td>\n",
       "      <td>3.597288</td>\n",
       "    </tr>\n",
       "    <tr>\n",
       "      <th>k__Bacteria;p__Proteobacteria;c__Betaproteobacteria;o__Neisseriales;f__Neisseriaceae;g__Conchiformibius</th>\n",
       "      <td>-7.452893</td>\n",
       "      <td>3.907666</td>\n",
       "    </tr>\n",
       "  </tbody>\n",
       "</table>\n",
       "</div>"
      ],
      "text/plain": [
       "                                                        mean       std\n",
       "k__Bacteria;p__Tenericutes;c__Mollicutes;o__RF3... -8.683288  5.195745\n",
       "k__Bacteria;p__Firmicutes;c__Bacilli;o__Turicib... -8.678904  3.782265\n",
       "k__Bacteria;p__Firmicutes;c__Clostridia;o__Clos... -8.647544  3.837713\n",
       "k__Bacteria;p__Firmicutes;c__Clostridia;o__Clos... -8.466245  4.270247\n",
       "k__Bacteria;p__Firmicutes;c__Clostridia;o__Clos... -8.446737  4.424322\n",
       "k__Bacteria;p__Firmicutes;c__Clostridia;o__Clos... -8.439803  3.425567\n",
       "k__Bacteria;p__Proteobacteria;c__Alphaproteobac... -8.338626  3.389371\n",
       "k__Bacteria;p__Bacteroidetes;c__Flavobacteriia;... -8.255017  4.215557\n",
       "k__Bacteria;p__Proteobacteria;c__Gammaproteobac... -7.892410  4.168171\n",
       "k__Bacteria;p__Actinobacteria;c__Coriobacteriia... -7.883442  4.271919\n",
       "k__Bacteria;p__Proteobacteria;c__Gammaproteobac... -7.702606  4.225060\n",
       "k__Bacteria;p__Firmicutes;c__Erysipelotrichi;o_... -7.616083  4.050292\n",
       "k__Bacteria;p__Firmicutes;c__Clostridia;o__Clos... -7.505798  4.417154\n",
       "k__Bacteria;p__Proteobacteria;c__Alphaproteobac... -7.488400  3.597288\n",
       "k__Bacteria;p__Proteobacteria;c__Betaproteobact... -7.452893  3.907666"
      ]
     },
     "execution_count": 16,
     "metadata": {},
     "output_type": "execute_result"
    }
   ],
   "source": [
    "differentials.head(15)"
   ]
  },
  {
   "cell_type": "code",
   "execution_count": 17,
   "metadata": {},
   "outputs": [
    {
     "data": {
      "text/html": [
       "<div>\n",
       "<style scoped>\n",
       "    .dataframe tbody tr th:only-of-type {\n",
       "        vertical-align: middle;\n",
       "    }\n",
       "\n",
       "    .dataframe tbody tr th {\n",
       "        vertical-align: top;\n",
       "    }\n",
       "\n",
       "    .dataframe thead th {\n",
       "        text-align: right;\n",
       "    }\n",
       "</style>\n",
       "<table border=\"1\" class=\"dataframe\">\n",
       "  <thead>\n",
       "    <tr style=\"text-align: right;\">\n",
       "      <th></th>\n",
       "      <th>mean</th>\n",
       "      <th>std</th>\n",
       "    </tr>\n",
       "  </thead>\n",
       "  <tbody>\n",
       "    <tr>\n",
       "      <th>k__Bacteria;p__Proteobacteria;c__Betaproteobacteria;o__Burkholderiales;f__;g__</th>\n",
       "      <td>1.079667</td>\n",
       "      <td>1.441719</td>\n",
       "    </tr>\n",
       "    <tr>\n",
       "      <th>k__Bacteria;p__Firmicutes;c__Bacilli;o__Lactobacillales;f__Streptococcaceae;g__Streptococcus</th>\n",
       "      <td>1.099120</td>\n",
       "      <td>1.089291</td>\n",
       "    </tr>\n",
       "    <tr>\n",
       "      <th>k__Bacteria;p__Proteobacteria;c__Gammaproteobacteria;o__Enterobacteriales;f__Enterobacteriaceae;g__</th>\n",
       "      <td>1.231989</td>\n",
       "      <td>1.027175</td>\n",
       "    </tr>\n",
       "    <tr>\n",
       "      <th>k__Bacteria;p__Proteobacteria;c__Betaproteobacteria;o__Neisseriales;f__Neisseriaceae;g__Neisseria</th>\n",
       "      <td>1.379512</td>\n",
       "      <td>1.006584</td>\n",
       "    </tr>\n",
       "    <tr>\n",
       "      <th>k__Bacteria;p__Bacteroidetes;c__Flavobacteriia;o__Flavobacteriales;f__[Weeksellaceae];g__</th>\n",
       "      <td>1.379848</td>\n",
       "      <td>1.061584</td>\n",
       "    </tr>\n",
       "    <tr>\n",
       "      <th>k__Bacteria;p__Proteobacteria;c__Betaproteobacteria;o__Neisseriales;f__Neisseriaceae;g__</th>\n",
       "      <td>1.457733</td>\n",
       "      <td>1.071802</td>\n",
       "    </tr>\n",
       "    <tr>\n",
       "      <th>k__Bacteria;p__Firmicutes;c__Bacilli;o__Lactobacillales;f__Streptococcaceae;g__Lactococcus</th>\n",
       "      <td>1.595982</td>\n",
       "      <td>1.089014</td>\n",
       "    </tr>\n",
       "    <tr>\n",
       "      <th>k__Bacteria;p__Proteobacteria;c__Gammaproteobacteria;o__Pseudomonadales;f__Moraxellaceae;g__Moraxella</th>\n",
       "      <td>1.651899</td>\n",
       "      <td>1.172904</td>\n",
       "    </tr>\n",
       "    <tr>\n",
       "      <th>k__Bacteria;p__Firmicutes;c__Erysipelotrichi;o__Erysipelotrichales;f__Erysipelotrichaceae;g__Coprobacillus</th>\n",
       "      <td>1.860370</td>\n",
       "      <td>1.118723</td>\n",
       "    </tr>\n",
       "    <tr>\n",
       "      <th>k__Bacteria;p__Actinobacteria;c__Coriobacteriia;o__Coriobacteriales;f__Coriobacteriaceae;g__Atopobium</th>\n",
       "      <td>1.861283</td>\n",
       "      <td>0.968135</td>\n",
       "    </tr>\n",
       "    <tr>\n",
       "      <th>k__Bacteria;p__Firmicutes;c__Clostridia;o__Clostridiales;f__Lachnospiraceae;g__Moryella</th>\n",
       "      <td>1.879380</td>\n",
       "      <td>1.438202</td>\n",
       "    </tr>\n",
       "    <tr>\n",
       "      <th>k__Bacteria;p__Fusobacteria;c__Fusobacteriia;o__Fusobacteriales;f__Fusobacteriaceae;g__Fusobacterium</th>\n",
       "      <td>2.037235</td>\n",
       "      <td>1.111513</td>\n",
       "    </tr>\n",
       "    <tr>\n",
       "      <th>k__Bacteria;p__Proteobacteria;c__Betaproteobacteria;o__Burkholderiales;f__Oxalobacteraceae;g__</th>\n",
       "      <td>2.263064</td>\n",
       "      <td>1.034487</td>\n",
       "    </tr>\n",
       "    <tr>\n",
       "      <th>k__Bacteria;p__Bacteroidetes;c__Flavobacteriia;o__Flavobacteriales;f__Flavobacteriaceae;g__Capnocytophaga</th>\n",
       "      <td>2.499810</td>\n",
       "      <td>1.333079</td>\n",
       "    </tr>\n",
       "    <tr>\n",
       "      <th>k__Bacteria;p__Firmicutes;c__Clostridia;o__Clostridiales;f__Veillonellaceae;g__Selenomonas</th>\n",
       "      <td>4.510926</td>\n",
       "      <td>0.981855</td>\n",
       "    </tr>\n",
       "  </tbody>\n",
       "</table>\n",
       "</div>"
      ],
      "text/plain": [
       "                                                        mean       std\n",
       "k__Bacteria;p__Proteobacteria;c__Betaproteobact...  1.079667  1.441719\n",
       "k__Bacteria;p__Firmicutes;c__Bacilli;o__Lactoba...  1.099120  1.089291\n",
       "k__Bacteria;p__Proteobacteria;c__Gammaproteobac...  1.231989  1.027175\n",
       "k__Bacteria;p__Proteobacteria;c__Betaproteobact...  1.379512  1.006584\n",
       "k__Bacteria;p__Bacteroidetes;c__Flavobacteriia;...  1.379848  1.061584\n",
       "k__Bacteria;p__Proteobacteria;c__Betaproteobact...  1.457733  1.071802\n",
       "k__Bacteria;p__Firmicutes;c__Bacilli;o__Lactoba...  1.595982  1.089014\n",
       "k__Bacteria;p__Proteobacteria;c__Gammaproteobac...  1.651899  1.172904\n",
       "k__Bacteria;p__Firmicutes;c__Erysipelotrichi;o_...  1.860370  1.118723\n",
       "k__Bacteria;p__Actinobacteria;c__Coriobacteriia...  1.861283  0.968135\n",
       "k__Bacteria;p__Firmicutes;c__Clostridia;o__Clos...  1.879380  1.438202\n",
       "k__Bacteria;p__Fusobacteria;c__Fusobacteriia;o_...  2.037235  1.111513\n",
       "k__Bacteria;p__Proteobacteria;c__Betaproteobact...  2.263064  1.034487\n",
       "k__Bacteria;p__Bacteroidetes;c__Flavobacteriia;...  2.499810  1.333079\n",
       "k__Bacteria;p__Firmicutes;c__Clostridia;o__Clos...  4.510926  0.981855"
      ]
     },
     "execution_count": 17,
     "metadata": {},
     "output_type": "execute_result"
    }
   ],
   "source": [
    "differentials.tail(15)"
   ]
  },
  {
   "cell_type": "code",
   "execution_count": 20,
   "metadata": {},
   "outputs": [],
   "source": [
    "numerator = np.log(table.loc[:, differentials.head(10).index] + 1)\n",
    "denominator = np.log(table.loc[:, differentials.tail(10).index] + 1)\n",
    "balance = numerator.mean(axis=1)- denominator.mean(axis=1)\n",
    "md['TopTaxaLogRatio'] = balance"
   ]
  },
  {
   "cell_type": "code",
   "execution_count": 21,
   "metadata": {},
   "outputs": [
    {
     "data": {
      "text/plain": [
       "<AxesSubplot:xlabel='diseasesubtype', ylabel='TopTaxaLogRatio'>"
      ]
     },
     "execution_count": 21,
     "metadata": {},
     "output_type": "execute_result"
    },
    {
     "data": {
      "image/png": "[encoded data removed]",
      "text/plain": [
       "<Figure size 432x288 with 1 Axes>"
      ]
     },
     "metadata": {
      "needs_background": "light"
     },
     "output_type": "display_data"
    }
   ],
   "source": [
    "import seaborn as sns\n",
    "sns.boxplot(x='diseasesubtype', y='TopTaxaLogRatio', data=md)"
   ]
  },
  {
   "cell_type": "code",
   "execution_count": 19,
   "metadata": {},
   "outputs": [
    {
     "data": {
      "text/plain": [
       "k__Bacteria;p__Proteobacteria;c__Betaproteobacteria;o__Neisseriales;f__Neisseriaceae;g__Neisseria             1.370489\n",
       "k__Bacteria;p__Proteobacteria;c__Gammaproteobacteria;o__Pseudomonadales;f__Moraxellaceae;g__Moraxella         1.408384\n",
       "k__Bacteria;p__Firmicutes;c__Bacilli;o__Lactobacillales;f__Streptococcaceae;g__Lactococcus                    1.465530\n",
       "k__Bacteria;p__Firmicutes;c__Erysipelotrichi;o__Erysipelotrichales;f__Erysipelotrichaceae;g__Coprobacillus    1.662941\n",
       "k__Bacteria;p__Fusobacteria;c__Fusobacteriia;o__Fusobacteriales;f__Fusobacteriaceae;g__Fusobacterium          1.832848\n",
       "k__Bacteria;p__Bacteroidetes;c__Flavobacteriia;o__Flavobacteriales;f__Flavobacteriaceae;g__Capnocytophaga     1.875215\n",
       "k__Bacteria;p__Actinobacteria;c__Coriobacteriia;o__Coriobacteriales;f__Coriobacteriaceae;g__Atopobium         1.922545\n",
       "k__Bacteria;p__Proteobacteria;c__Betaproteobacteria;o__Burkholderiales;f__Oxalobacteraceae;g__                2.187619\n",
       "k__Bacteria;p__Firmicutes;c__Clostridia;o__Clostridiales;f__Veillonellaceae;g__Selenomonas                    4.594290\n",
       "k__Bacteria;p__Actinobacteria;c__Actinobacteria;o__Actinomycetales;f__Actinomycetaceae;g__Actinomyces              NaN\n",
       "dtype: float64"
      ]
     },
     "execution_count": 19,
     "metadata": {},
     "output_type": "execute_result"
    }
   ],
   "source": [
    "(differentials['mean'] / differentials['std']).sort_values().tail(10)"
   ]
  },
  {
   "cell_type": "code",
   "execution_count": 18,
   "metadata": {},
   "outputs": [
    {
     "data": {
      "text/plain": [
       "k__Bacteria;p__Verrucomicrobia;c__Verrucomicrobiae;o__Verrucomicrobiales;f__Verrucomicrobiaceae;g__Akkermansia   -3.866824\n",
       "k__Bacteria;p__Bacteroidetes;c__Bacteroidia;o__Bacteroidales;f__[Odoribacteraceae];g__Butyricimonas              -3.097908\n",
       "k__Bacteria;p__Bacteroidetes;c__Bacteroidia;o__Bacteroidales;f__Prevotellaceae;g__Prevotella                     -3.051983\n",
       "k__Bacteria;p__Bacteroidetes;c__Bacteroidia;o__Bacteroidales;f__[Paraprevotellaceae];g__Paraprevotella           -3.024158\n",
       "k__Bacteria;p__Firmicutes;c__Bacilli;o__Lactobacillales;f__Lactobacillaceae;g__Lactobacillus                     -2.896163\n",
       "k__Bacteria;p__Actinobacteria;c__Actinobacteria;o__Bifidobacteriales;f__Bifidobacteriaceae;g__Bifidobacterium    -2.861405\n",
       "k__Bacteria;p__Firmicutes;c__Clostridia;o__Clostridiales;f__Christensenellaceae;g__                              -2.601385\n",
       "k__Bacteria;p__Firmicutes;c__Clostridia;o__Clostridiales;f__Lachnospiraceae;g__Epulopiscium                      -2.463768\n",
       "k__Bacteria;p__Proteobacteria;c__Alphaproteobacteria;o__RF32;f__;g__                                             -2.460228\n",
       "k__Bacteria;p__Proteobacteria;c__Gammaproteobacteria;o__Pasteurellales;f__Pasteurellaceae;g__Actinobacillus      -2.445351\n",
       "dtype: float64"
      ]
     },
     "execution_count": 18,
     "metadata": {},
     "output_type": "execute_result"
    }
   ],
   "source": [
    "(differentials['mean'] / differentials['std']).sort_values().head(10)"
   ]
  },
  {
   "cell_type": "code",
   "execution_count": 22,
   "metadata": {},
   "outputs": [],
   "source": [
    "rank = (differentials['mean'] / differentials['std']).sort_values()\n",
    "\n",
    "numerator = np.log(table.loc[:, rank.head(10).index] + 1)\n",
    "denominator = np.log(table.loc[:, rank.tail(10).index] + 1)\n",
    "balance = numerator.mean(axis=1)- denominator.mean(axis=1)\n",
    "md['TopTaxaLogRatio'] = balance"
   ]
  },
  {
   "cell_type": "code",
   "execution_count": 23,
   "metadata": {},
   "outputs": [
    {
     "data": {
      "text/plain": [
       "<AxesSubplot:xlabel='diseasesubtype', ylabel='TopTaxaLogRatio'>"
      ]
     },
     "execution_count": 23,
     "metadata": {},
     "output_type": "execute_result"
    },
    {
     "data": {
      "image/png": "[encoded data removed]",
      "text/plain": [
       "<Figure size 432x288 with 1 Axes>"
      ]
     },
     "metadata": {
      "needs_background": "light"
     },
     "output_type": "display_data"
    }
   ],
   "source": [
    "sns.boxplot(x='diseasesubtype', y='TopTaxaLogRatio', data=md)"
   ]
  },
  {
   "cell_type": "code",
   "execution_count": 24,
   "metadata": {},
   "outputs": [
    {
     "data": {
      "text/plain": [
       "Index(['k__Bacteria;p__Verrucomicrobia;c__Verrucomicrobiae;o__Verrucomicrobiales;f__Verrucomicrobiaceae;g__Akkermansia',\n",
       "       'k__Bacteria;p__Bacteroidetes;c__Bacteroidia;o__Bacteroidales;f__[Odoribacteraceae];g__Butyricimonas',\n",
       "       'k__Bacteria;p__Bacteroidetes;c__Bacteroidia;o__Bacteroidales;f__Prevotellaceae;g__Prevotella',\n",
       "       'k__Bacteria;p__Bacteroidetes;c__Bacteroidia;o__Bacteroidales;f__[Paraprevotellaceae];g__Paraprevotella',\n",
       "       'k__Bacteria;p__Firmicutes;c__Bacilli;o__Lactobacillales;f__Lactobacillaceae;g__Lactobacillus',\n",
       "       'k__Bacteria;p__Actinobacteria;c__Actinobacteria;o__Bifidobacteriales;f__Bifidobacteriaceae;g__Bifidobacterium',\n",
       "       'k__Bacteria;p__Firmicutes;c__Clostridia;o__Clostridiales;f__Christensenellaceae;g__',\n",
       "       'k__Bacteria;p__Firmicutes;c__Clostridia;o__Clostridiales;f__Lachnospiraceae;g__Epulopiscium',\n",
       "       'k__Bacteria;p__Proteobacteria;c__Alphaproteobacteria;o__RF32;f__;g__',\n",
       "       'k__Bacteria;p__Proteobacteria;c__Gammaproteobacteria;o__Pasteurellales;f__Pasteurellaceae;g__Actinobacillus'],\n",
       "      dtype='object')"
      ]
     },
     "execution_count": 24,
     "metadata": {},
     "output_type": "execute_result"
    }
   ],
   "source": [
    "numerator.columns"
   ]
  },
  {
   "cell_type": "code",
   "execution_count": 25,
   "metadata": {},
   "outputs": [
    {
     "data": {
      "text/plain": [
       "Index(['k__Bacteria;p__Proteobacteria;c__Betaproteobacteria;o__Neisseriales;f__Neisseriaceae;g__Neisseria',\n",
       "       'k__Bacteria;p__Proteobacteria;c__Gammaproteobacteria;o__Pseudomonadales;f__Moraxellaceae;g__Moraxella',\n",
       "       'k__Bacteria;p__Firmicutes;c__Bacilli;o__Lactobacillales;f__Streptococcaceae;g__Lactococcus',\n",
       "       'k__Bacteria;p__Firmicutes;c__Erysipelotrichi;o__Erysipelotrichales;f__Erysipelotrichaceae;g__Coprobacillus',\n",
       "       'k__Bacteria;p__Fusobacteria;c__Fusobacteriia;o__Fusobacteriales;f__Fusobacteriaceae;g__Fusobacterium',\n",
       "       'k__Bacteria;p__Bacteroidetes;c__Flavobacteriia;o__Flavobacteriales;f__Flavobacteriaceae;g__Capnocytophaga',\n",
       "       'k__Bacteria;p__Actinobacteria;c__Coriobacteriia;o__Coriobacteriales;f__Coriobacteriaceae;g__Atopobium',\n",
       "       'k__Bacteria;p__Proteobacteria;c__Betaproteobacteria;o__Burkholderiales;f__Oxalobacteraceae;g__',\n",
       "       'k__Bacteria;p__Firmicutes;c__Clostridia;o__Clostridiales;f__Veillonellaceae;g__Selenomonas',\n",
       "       'k__Bacteria;p__Actinobacteria;c__Actinobacteria;o__Actinomycetales;f__Actinomycetaceae;g__Actinomyces'],\n",
       "      dtype='object')"
      ]
     },
     "execution_count": 25,
     "metadata": {},
     "output_type": "execute_result"
    }
   ],
   "source": [
    "denominator.columns"
   ]
  }
 ],
 "metadata": {
  "kernelspec": {
   "display_name": "Python 3",
   "language": "python",
   "name": "python3"
  },
  "language_info": {
   "codemirror_mode": {
    "name": "ipython",
    "version": 3
   },
   "file_extension": ".py",
   "mimetype": "text/x-python",
   "name": "python",
   "nbconvert_exporter": "python",
   "pygments_lexer": "ipython3",
   "version": "3.8.6"
  }
 },
 "nbformat": 4,
 "nbformat_minor": 4
}
